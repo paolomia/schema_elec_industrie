{
 "cells": [
  {
   "cell_type": "code",
   "execution_count": 1,
   "outputs": [],
   "source": [
    "import pandas as pd\n",
    "import openpyxl\n",
    "import os\n",
    "import urllib\n",
    "import datetime\n",
    "from db_utils.base import Session, Session_ax\n",
    "import matplotlib.pyplot as plt\n",
    "import seaborn as sns\n",
    "from extract_info import get_armoires_etuves, GetPrice, moteur2demarrer, var2art, map_moteur"
   ],
   "metadata": {
    "collapsed": false,
    "ExecuteTime": {
     "end_time": "2023-12-27T16:21:28.972149600Z",
     "start_time": "2023-12-27T16:21:28.447435800Z"
    }
   }
  },
  {
   "cell_type": "code",
   "execution_count": 2,
   "outputs": [],
   "source": [
    "def plot_concentric_bubbles(data, x, y, size, hue, max_hue=10):\n",
    "    \"\"\"\n",
    "    Plots a bubble chart with concentric circles.\n",
    "\n",
    "    Parameters:\n",
    "    data (pd.DataFrame): The DataFrame containing the data.\n",
    "    x (str): The column name for x-axis values.\n",
    "    y (str): The column name for y-axis values.\n",
    "    size (str): The column name for the size of the bubbles.\n",
    "    hue (str): The column name for the hue of the bubbles.\n",
    "    \"\"\"\n",
    "    # Sort data by hue\n",
    "    import matplotlib\n",
    "\n",
    "# Find hues and sort from most to least frequent\n",
    "    hue_size = data.groupby(hue, as_index=False)[size].sum()\n",
    "    hue_size = hue_size.sort_values(by=size, ascending=False)\n",
    "    hue_order = hue_size[hue].values\n",
    "    # map hue to integer\n",
    "    hue2int = {hue: i for i, hue in enumerate(hue_order)}\n",
    "    data['hue_int'] = data[hue].map(hue2int)\n",
    "    data_sorted = data.sort_values(by='hue_int')\n",
    "\n",
    "    #  Remove hues with low frequency\n",
    "    if len(hue_order) > max_hue:\n",
    "        hue_order = hue_order[:max_hue]\n",
    "        data_sorted = data_sorted[data_sorted[hue].isin(hue_order)]\n",
    "        data_sorted['hue_int'] = data_sorted[hue].map(hue2int)\n",
    "\n",
    "    # Prepare figure\n",
    "    fig, ax = plt.subplots(1, 1, figsize=(9, 6))\n",
    "\n",
    "    #  Choose a color palette pastel\n",
    "    colors = matplotlib.colormaps.get_cmap('Pastel2').colors\n",
    "\n",
    "    # Iterate over each hue\n",
    "    for hue_int in range(len(hue_order)):\n",
    "        hue_value = hue_order[hue_int]\n",
    "        hue_data = data_sorted[data_sorted['hue_int'] >= hue_int]\n",
    "\n",
    "        # Cumulative sum for size within each (x, y) group\n",
    "        to_plot = hue_data.groupby([x, y], as_index=False)[size].sum()\n",
    "        # Modify size for best plot effect\n",
    "        to_plot[size] = to_plot[size].apply(lambda x: 100*x**(1))\n",
    "        # Scatter plot for each hue. linewidth is 0 to remove the line between points\n",
    "        ax.scatter(to_plot[x], to_plot[y], s=to_plot[size], alpha=1, label=hue_value, linewidth=0, zorder=hue_int, color=colors[hue_int])\n",
    "\n",
    "\n",
    "    # Calculate total sum of size for each (x, y) group and add as text\n",
    "    totals = data.groupby([x, y], as_index=False)[size].sum()\n",
    "    for i, txt in enumerate(totals[size]):\n",
    "        ax.text(totals[x].iloc[i], totals[y].iloc[i], txt, ha='center', va='center', color='black', zorder=len(hue_order)+1)\n",
    "\n",
    "    ax.set_xlabel(x)\n",
    "    ax.set_ylabel(y)\n",
    "    # Customize and place legend outside the plot\n",
    "    legend = ax.legend(loc='center left', bbox_to_anchor=(1, 0.5))\n",
    "\n",
    "    # Make all legend markers the same size\n",
    "    for handle in legend.legend_handles:\n",
    "        handle.set_sizes([100])\n",
    "    return fig, ax\n",
    "\n",
    "def plot_bubble_price(data, x, y, size, label):\n",
    "    \"\"\"\n",
    "    Plots a bubble chart with prices\n",
    "\n",
    "    Parameters:\n",
    "    data (pd.DataFrame): The DataFrame containing the data.\n",
    "    x (str): The column name for x-axis values.\n",
    "    y (str): The column name for y-axis values.\n",
    "    size (str): The column name for the size of the bubbles.\n",
    "    hue (str): The column name for the annotation\n",
    "    \"\"\"\n",
    "    # Sort data by hue\n",
    "    import matplotlib\n",
    "\n",
    "    # Prepare figure\n",
    "    fig, ax = plt.subplots(1, 1, figsize=(9, 9))\n",
    "\n",
    "    #  Choose a color palette pastel\n",
    "    colors = matplotlib.colormaps.get_cmap('Pastel2').colors\n",
    "    ax.scatter(data[x], data[y], s=data[size]*50, alpha=1, linewidth=0, color=colors[0])\n",
    "    # Add label as annotation in the plot\n",
    "    for i, txt in enumerate(data[label]):\n",
    "        ax.text(data[x].iloc[i], data[y].iloc[i], txt, ha='center', va='center', color='black', zorder=len(data)+1)\n",
    "    return fig, ax"
   ],
   "metadata": {
    "collapsed": false,
    "ExecuteTime": {
     "end_time": "2023-12-27T16:21:28.996149200Z",
     "start_time": "2023-12-27T16:21:28.980148400Z"
    }
   }
  },
  {
   "cell_type": "code",
   "execution_count": 3,
   "outputs": [
    {
     "name": "stdout",
     "output_type": "stream",
     "text": [
      "Nombre d'étuves: 190\n"
     ]
    },
    {
     "data": {
      "text/plain": "                ADV  Num_AF\n0  ADV-ETUVE-MOD-BT      62\n1  ADV-ETUVE-MOD-HT      63\n2    ADV-ETUVE-MONO      65",
      "text/html": "<div>\n<style scoped>\n    .dataframe tbody tr th:only-of-type {\n        vertical-align: middle;\n    }\n\n    .dataframe tbody tr th {\n        vertical-align: top;\n    }\n\n    .dataframe thead th {\n        text-align: right;\n    }\n</style>\n<table border=\"1\" class=\"dataframe\">\n  <thead>\n    <tr style=\"text-align: right;\">\n      <th></th>\n      <th>ADV</th>\n      <th>Num_AF</th>\n    </tr>\n  </thead>\n  <tbody>\n    <tr>\n      <th>0</th>\n      <td>ADV-ETUVE-MOD-BT</td>\n      <td>62</td>\n    </tr>\n    <tr>\n      <th>1</th>\n      <td>ADV-ETUVE-MOD-HT</td>\n      <td>63</td>\n    </tr>\n    <tr>\n      <th>2</th>\n      <td>ADV-ETUVE-MONO</td>\n      <td>65</td>\n    </tr>\n  </tbody>\n</table>\n</div>"
     },
     "execution_count": 3,
     "metadata": {},
     "output_type": "execute_result"
    }
   ],
   "source": [
    "df_etuve = get_armoires_etuves(cache=False)\n",
    "\n",
    "# On garde uniquememnt les étuves réconnues en tant que telles sur Divalto\n",
    "# df_etuve = df_etuve[df_etuve['type_equip_divalto'] == 'ETUVE']\n",
    "\n",
    "adv_classes = [\"ADV-ETUVE-MOD-BT\", \"ADV-ETUVE-MOD-HT\", \"ADV-ETUVE-MONO\"]\n",
    "df_etuve = df_etuve[df_etuve['ADV'].isin(adv_classes)]\n",
    "# Remove variateur\n",
    "# Strip column Dem_Mot\n",
    "df_etuve.loc[:, 'Dem_Mot'] = df_etuve['Dem_Mot'].str.strip()\n",
    "df_etuve = df_etuve[~df_etuve['Dem_Mot'].str.contains('ariate')]\n",
    "print(f\"Nombre d'étuves: {len(df_etuve)}\")\n",
    "# Show repartition of the different types of etuves\n",
    "df_etuve.groupby('ADV', as_index=False)['Num_AF'].count()\n",
    "\n"
   ],
   "metadata": {
    "collapsed": false,
    "ExecuteTime": {
     "end_time": "2023-12-27T16:21:36.453629300Z",
     "start_time": "2023-12-27T16:21:28.996149200Z"
    }
   }
  },
  {
   "cell_type": "code",
   "execution_count": 4,
   "outputs": [
    {
     "ename": "NameError",
     "evalue": "name 'distinct_cases' is not defined",
     "output_type": "error",
     "traceback": [
      "\u001B[1;31m---------------------------------------------------------------------------\u001B[0m",
      "\u001B[1;31mNameError\u001B[0m                                 Traceback (most recent call last)",
      "Cell \u001B[1;32mIn[4], line 1\u001B[0m\n\u001B[1;32m----> 1\u001B[0m \u001B[43mdistinct_cases\u001B[49m\n",
      "\u001B[1;31mNameError\u001B[0m: name 'distinct_cases' is not defined"
     ]
    }
   ],
   "source": [
    "distinct_cases"
   ],
   "metadata": {
    "collapsed": false,
    "ExecuteTime": {
     "end_time": "2023-12-27T16:21:37.560710900Z",
     "start_time": "2023-12-27T16:21:36.447587400Z"
    }
   }
  },
  {
   "cell_type": "code",
   "execution_count": null,
   "outputs": [],
   "source": [
    "# On essaye de filtrer les monoblocs:\n",
    "df = df_etuve[df_etuve['ADV'] == 'ADV-ETUVE-MOD-HT'].copy()\n",
    "#  Remove where price is 0\n",
    "df = df[df['armoire_price'] > 0]\n",
    "# Replace no ME1 by 0\n",
    "df['ME1'] = df['ME1'].fillna(0)\n",
    "\n",
    "# Filter by Regul\n",
    "df = df[df['Regul'].str.lower().str.strip() == 'fuji pxf4']\n",
    "#  Filter by chauffage\n",
    "df = df[df['Chauff'].str.lower().str.strip() == \"bruleur à apport d'air\"]\n",
    "\n",
    "distinct_cases = df.groupby(['MS1', 'ME1'], as_index=False).agg(\n",
    "    {'Num_AF': 'count', 'armoire_price': ['mean', 'std', 'max', 'min']}\n",
    "    )\n",
    "\n",
    "\n",
    "# fig, ax = plot_concentric_bubbles(distinct_cases, 'MS1', 'ME1', 'Num_AF', 'Chauff')\n",
    "\n",
    "distinct_cases['mean_price'] = distinct_cases['armoire_price']['mean'].apply(lambda x: round(x, -1)).astype(int)\n",
    "distinct_cases['std_label'] = distinct_cases['armoire_price']['std'].apply(lambda x: f\"\\n+/- {x:.0f}\" if not pd.isna(x) else '')\n",
    "distinct_cases['label'] = distinct_cases['mean_price'].astype(str) + distinct_cases['std_label'].astype(str)\n",
    "\n",
    "fig, ax = plot_bubble_price(distinct_cases, 'MS1', 'ME1', 'Num_AF', 'label')\n",
    "\n"
   ],
   "metadata": {
    "collapsed": false
   }
  },
  {
   "cell_type": "code",
   "execution_count": null,
   "outputs": [],
   "source": [
    "# On essaye de filtrer les monoblocs:\n",
    "df = df_etuve[df_etuve['ADV'] == 'ADV-ETUVE-MOD-HT'].copy()\n",
    "#  2 moteurs de soufflage\n",
    "df = df[df['Nb_MS'] == 2]\n",
    "\n",
    "# Get nomber of armoire for each cluster\n",
    "distinct_cases = df.groupby(['MS1', 'ME1'], as_index=False)['Num_AF'].count()\n",
    "# Join with df\n",
    "df = df.merge(distinct_cases, on=['MS1', 'ME1'], how='left', suffixes=('', '_count'))\n",
    "#  Remove where price is 0\n",
    "df = df[df['armoire_price'] > 0]\n",
    "# Replace no ME1 by 0\n",
    "df['ME1'] = df['ME1'].fillna(0)\n",
    "\n",
    "# Make a dummy field from Regul (there are many different values)\n",
    "\n",
    "from sklearn.preprocessing import OneHotEncoder\n",
    "# Add a column with year\n",
    "df['year'] = df['Date'].dt.year\n",
    "\n",
    "# Extract size\n",
    "df[['Length', 'Width', 'Height']] = df['Armoire'].apply(extract_dimensions)\n",
    "\n",
    "#  Remove rows where dimensions are not available\n",
    "df = df[~df['Length'].isna()]\n",
    "\n",
    "df['volume'] = df['Length'] * df['Width'] * df['Height']\n",
    "\n",
    "print(f\"Nbre d'étuves: {len(df)}\")\n",
    "\n",
    "# Create an instance of the OneHotEncoder\n",
    "\n",
    "enc1 = OneHotEncoder(handle_unknown='ignore')\n",
    "# Apply the encoder to the df\n",
    "OH_Reg = enc1.fit_transform(df['Regul'].str.lower().str.strip().values.reshape(-1, 1)).toarray()\n",
    "#  Print alternative categories\n",
    "print(enc1.categories_)\n",
    "enc2 = OneHotEncoder(handle_unknown='ignore')\n",
    "OH_Chauff = enc2.fit_transform(df['Chauff'].str.lower().str.strip().values.reshape(-1, 1)).toarray()\n",
    "#  Print alternative categories\n",
    "print(enc2.categories_)\n",
    "\n",
    "\n",
    "\n",
    "\n",
    "\n",
    "\n",
    "# Train a linear regression with lasso to infer the price of the armoire\n",
    "from sklearn.linear_model import Lasso\n",
    "from sklearn.model_selection import cross_validate\n",
    "import numpy as np\n",
    "\n",
    "# Use a k-fold cross validation to find the best alpha\n",
    "\n",
    "y = df['armoire_price'].values\n",
    "\n",
    "X = df[['volume']].values\n",
    "X = np.concatenate((X, df[['MS1', 'ME1']].values), axis=1)\n",
    "# Add OH encoding\n",
    "X = np.concatenate((X, OH_Reg), axis=1)\n",
    "X = np.concatenate((X, OH_Chauff), axis=1)\n",
    "X = np.concatenate((X, df['year'].values.reshape(-1, 1)), axis=1)\n",
    "# X = np.concatenate((X, df['Nb_Cab_Ident'].values.reshape(-1, 1)), axis=1)\n",
    "X = np.concatenate((X, df['Num_AF_count'].values.reshape(-1, 1)), axis=1)\n",
    "# X = np.concatenate((X, df[['Length', 'Width', 'Height']].values), axis=1)\n",
    "\n",
    "#  Normalize data\n",
    "X = (X - np.mean(X, axis=0)) / np.std(X, axis=0)\n",
    "y_std = np.std(y)\n",
    "y = (y - np.mean(y)) / y_std\n",
    "\n",
    "\n",
    "#  Model is lasso with intercept\n",
    "model = Lasso(fit_intercept=True, alpha=0.05)\n",
    "\n",
    "# Model is knn\n",
    "from sklearn.neighbors import KNeighborsRegressor\n",
    "# model = KNeighborsRegressor(n_neighbors=5)\n",
    "\n",
    "# Take just Dummy regressor with mean\n",
    "from sklearn.dummy import DummyRegressor\n",
    "# model = DummyRegressor(strategy='mean')\n",
    "\n",
    "# Define a leave 2 out cross validation\n",
    "from sklearn.model_selection import LeavePOut\n",
    "cv = LeavePOut(p=3)\n",
    "\n",
    "# Perform cross-validation\n",
    "cv_results = cross_validate(model, X, y, cv=cv, return_estimator=True, scoring='neg_mean_squared_error')\n",
    "\n",
    "# Extract R2 scores\n",
    "nmse_scores = cv_results['test_score']\n",
    "\n",
    "# Extract coefficients\n",
    "coefficients = np.array([estimator.coef_ for estimator in cv_results['estimator']])\n",
    "\n",
    "# Calculate the mean and standard deviation of the coefficients\n",
    "mean_coefficients = np.mean(coefficients, axis=0)\n",
    "std_coefficients = np.std(coefficients, axis=0)\n",
    "\n",
    "# Print results\n",
    "mean_mse = np.mean(-nmse_scores)\n",
    "print(\"Mean MSE:\", mean_mse)\n",
    "r2 = 1 - mean_mse / np.var(y)\n",
    "print(\"R2:\", r2)\n",
    "print(\"Mean coefficients:\", mean_coefficients)\n",
    "print(\"Standard deviation of coefficients:\", std_coefficients)\n",
    "mean_err_euros = np.abs(mean_mse)**0.5 * y_std\n",
    "print(f\"Mean absolute error (euros): {mean_err_euros:.0f}\")\n",
    "\n",
    "\n",
    "\n",
    "\n"
   ],
   "metadata": {
    "collapsed": false
   }
  },
  {
   "cell_type": "code",
   "execution_count": null,
   "outputs": [],
   "source": [],
   "metadata": {
    "collapsed": false
   }
  },
  {
   "cell_type": "code",
   "execution_count": null,
   "outputs": [],
   "source": [
    "df['Armoire']\n",
    "\n",
    "def extract_dimensions(dim_str):\n",
    "    none_return = pd.Series([None, None, None], index=['Length', 'Width', 'Height'])\n",
    "    if pd.isna(dim_str):\n",
    "        return none_return\n",
    "    dim_str = dim_str.strip().lower()\n",
    "    parts = dim_str.split('x')\n",
    "    if len(parts) == 3:\n",
    "        try:\n",
    "            L, l, H = map(int, parts)\n",
    "            return pd.Series([L, l, H], index=['Length', 'Width', 'Height'])\n",
    "        except ValueError:\n",
    "            # Handle case where conversion to int fails\n",
    "            return none_return\n",
    "    else:\n",
    "        # Handle case where the format is not LxlxH\n",
    "        return none_return\n",
    "\n",
    "\n",
    "# Apply the function to the dimensions column and join the result to the original DataFrame\n",
    "df[['Length', 'Width', 'Height']] = df['Armoire'].apply(extract_dimensions)\n",
    "df"
   ],
   "metadata": {
    "collapsed": false
   }
  },
  {
   "cell_type": "code",
   "execution_count": null,
   "outputs": [],
   "source": [
    "df"
   ],
   "metadata": {
    "collapsed": false
   }
  },
  {
   "cell_type": "code",
   "execution_count": null,
   "outputs": [],
   "source": [
    "y"
   ],
   "metadata": {
    "collapsed": false
   }
  },
  {
   "cell_type": "code",
   "execution_count": null,
   "outputs": [],
   "source": [
    "# On essaye de filtrer les monoblocs:\n",
    "df = df_etuve[df_etuve['ADV'] == 'ADV-ETUVE-MONO'].copy()\n",
    "#  Remove where price is 0\n",
    "df = df[df['armoire_price'] > 0]\n",
    "# Replace no ME1 by 0\n",
    "df['ME1'] = df['ME1'].fillna(0)\n",
    "distinct_cases = df.groupby(['MS1', 'ME1', 'Chauff'], as_index=False)['Num_AF'].count()\n",
    "\n",
    "fig, ax = plot_concentric_bubbles(distinct_cases, 'MS1', 'ME1', 'Num_AF', 'Chauff')\n",
    "tot_mono = sum(distinct_cases['Num_AF'])\n",
    "fig.suptitle(f'Distribution des puissances moteurs pour les étuves monoblocs (TOT: {tot_mono})')\n",
    "plt.show()\n",
    "\n"
   ],
   "metadata": {
    "collapsed": false
   }
  },
  {
   "cell_type": "code",
   "execution_count": null,
   "outputs": [],
   "source": [
    "modul = df_etuve[df_etuve['ADV'] == \"ADV-ETUVE-MOD-BT\"].copy()\n",
    "# Print statistics for Nb_MS\n",
    "modul.groupby('Nb_MS', as_index=False)['Num_AF'].count()\n"
   ],
   "metadata": {
    "collapsed": false
   }
  },
  {
   "cell_type": "code",
   "execution_count": null,
   "outputs": [],
   "source": [
    "# LOW TEMPERATURE - 1 MOTOR\n",
    "df = df_etuve[df_etuve['ADV'] == \"ADV-ETUVE-MOD-BT\"].copy()\n",
    "\n",
    "# Replace no ME1 by 0\n",
    "df['ME1'] = df['ME1'].fillna(0)\n",
    "# 1 seul moteur de soufflage\n",
    "df = df[df['Nb_MS'] == 1]\n",
    "\n",
    "# distinct_cases = df.groupby(['MS1', 'ME1', 'Chauff'], as_index=False)['Num_AF'].count()\n",
    "distinct_cases = df.groupby(['MS1', 'ME1', 'Dem_Mot'], as_index=False)['Num_AF'].count()\n",
    "#  Plot\n",
    "# fig, ax = plot_concentric_bubbles(distinct_cases, 'MS1', 'ME1', 'Num_AF', 'Chauff')\n",
    "fig, ax = plot_concentric_bubbles(distinct_cases, 'MS1', 'ME1', 'Num_AF', 'Dem_Mot')\n",
    "tot = sum(distinct_cases['Num_AF'])\n",
    "fig.suptitle(f'Distribution des puissances moteurs pour les étuves modulaires BT (1 mot souffl.) (TOT: {tot})')\n",
    "plt.show()\n"
   ],
   "metadata": {
    "collapsed": false
   }
  },
  {
   "cell_type": "code",
   "execution_count": null,
   "outputs": [],
   "source": [
    "# LOW TEMPERATURE - 2 MOTOR\n",
    "df = df_etuve[df_etuve['ADV'] == \"ADV-ETUVE-MOD-BT\"].copy()\n",
    "\n",
    "# Replace no ME1 by 0\n",
    "df['ME1'] = df['ME1'].fillna(0)\n",
    "# 1 seul moteur de soufflage\n",
    "df_1M = df[df['Nb_MS'] == 2]\n",
    "\n",
    "# distinct_cases = df_1M.groupby(['MS1', 'ME1', 'Chauff'], as_index=False)['Num_AF'].count()\n",
    "distinct_cases = df_1M.groupby(['MS1', 'ME1', 'Dem_Mot'], as_index=False)['Num_AF'].count()\n",
    "#  Plot\n",
    "# fig, ax = plot_concentric_bubbles(distinct_cases, 'MS1', 'ME1', 'Num_AF', 'Chauff')\n",
    "fig, ax = plot_concentric_bubbles(distinct_cases, 'MS1', 'ME1', 'Num_AF', 'Dem_Mot')\n",
    "tot = sum(distinct_cases['Num_AF'])\n",
    "fig.suptitle(f'Distribution des puissances moteurs pour les étuves modulaires BT (2 mot souffl.) (TOT: {tot})')\n",
    "plt.show()\n"
   ],
   "metadata": {
    "collapsed": false
   }
  },
  {
   "cell_type": "code",
   "execution_count": null,
   "outputs": [],
   "source": [
    "# HIGH TEMPERATURE - 2 MOTOR\n",
    "df = df_etuve[df_etuve['ADV'] == \"ADV-ETUVE-MOD-HT\"].copy()\n",
    "\n",
    "# Replace no ME1 by 0\n",
    "df['ME1'] = df['ME1'].fillna(0)\n",
    "# 1 seul moteur de soufflage\n",
    "df = df[df['Nb_MS'] == 2]\n",
    "\n",
    "distinct_cases = df.groupby(['MS1', 'ME1', 'Chauff'], as_index=False)['Num_AF'].count()\n",
    "# distinct_cases = df.groupby(['MS1', 'ME1', 'Regul'], as_index=False)['Num_AF'].count()\n",
    "# distinct_cases = df.groupby(['MS1', 'ME1', 'Dem_Mot'], as_index=False)['Num_AF'].count()\n",
    "#  Plot\n",
    "fig, ax = plot_concentric_bubbles(distinct_cases, 'MS1', 'ME1', 'Num_AF', 'Chauff')\n",
    "# fig, ax = plot_concentric_bubbles(distinct_cases, 'MS1', 'ME1', 'Num_AF', 'Regul')\n",
    "tot = sum(distinct_cases['Num_AF'])\n",
    "fig.suptitle(f'Distribution des puissances moteurs pour les étuves modulaires HT (2 mot souffl.) (TOT: {tot})')\n",
    "plt.show()\n"
   ],
   "metadata": {
    "collapsed": false
   }
  },
  {
   "cell_type": "code",
   "execution_count": null,
   "outputs": [],
   "source": [
    "columns = ['Code_Equip', 'Date', 'Caract', 'Nb_MS', 'MS1', 'MS2', 'ME1',\n",
    "           'Dem_Mot', 'Chauff', 'Regul', 'ADV', 'puissance_bruleur', 'qty_bruleur', 'armoire_price']\n",
    "\n",
    "#  COnvert ot int, including NAN\n",
    "df_etuve = get_armoires_etuves(cache=False)\n",
    "df_etuve = df_etuve.loc[:, columns].copy()\n",
    "df_etuve['armoire_price'] = df_etuve['armoire_price'].fillna(0).astype(int)\n",
    "\n",
    "# Export to xls\n",
    "filename = f'./temp/etuve.xlsx'\n",
    "writer = pd.ExcelWriter(filename, engine='openpyxl')\n",
    "\n",
    "# MOD-HT\n",
    "df = df_etuve[df_etuve['ADV'] == \"ADV-ETUVE-MOD-HT\"].copy()\n",
    "# Create a sheet 'MOD-HT'\n",
    "writer.sheets['MOD-HT'] = df.to_excel(writer, sheet_name='MOD-HT', index=False)\n",
    "\n",
    "# MOD-BT\n",
    "df = df_etuve[df_etuve['ADV'] == \"ADV-ETUVE-MOD-BT\"].copy()\n",
    "# Create a sheet 'MOD-BT'\n",
    "writer.sheets['MOD-BT'] = df.to_excel(writer, sheet_name='MOD-BT', index=False)\n",
    "\n",
    "# MONO\n",
    "df = df_etuve[df_etuve['ADV'] == \"ADV-ETUVE-MONO\"].copy()\n",
    "# Create a sheet 'MONO'\n",
    "writer.sheets['MONO'] = df.to_excel(writer, sheet_name='MONO', index=False)\n",
    "\n",
    "# Remaining\n",
    "df = df_etuve[~df_etuve['ADV'].isin([\"ADV-ETUVE-MOD-HT\", \"ADV-ETUVE-MOD-BT\", \"ADV-ETUVE-MONO\"])].copy()\n",
    "# Create a sheet 'MONO'\n",
    "\n",
    "writer.sheets['OTHER'] = df.to_excel(writer, sheet_name='OTHER', index=False)\n",
    "\n",
    "writer.close()\n",
    "\n",
    "\n"
   ],
   "metadata": {
    "collapsed": false
   }
  },
  {
   "cell_type": "code",
   "execution_count": null,
   "outputs": [],
   "source": [
    "df\n",
    "# 3 Population\n",
    "# 1. Monobloc\n",
    "# 2. Modulaire 1 moteur soufflage\n",
    "# 3. Modulaire 2 moteurs soufflage\n",
    "\n",
    "# Essayer de récupérer code ADV sur AX.\n",
    "#  Baasse température -> ADV-ETUVE-MOD-BT et 1 moteur\n",
    "# Haute températue -> ADV-ETUVE-MOD-HT et 2 moteurs\n",
    "# Monobloc -> ADV-ETUVE-MONO (on exclue par l'instant)\n",
    "#  Le reste est du spécial\n",
    "\n",
    "# Regarder si on peut récupérer la puissance /type bruleur (sous-ensemble I)\n",
    "\n",
    "# Exclure variateurs\n",
    "\n",
    "# Refaire l'analyse avec le prix moyen de l'armoire, vérifier l'ecart\n",
    "# Trier les liste avec Julien G. pour vérifier\n",
    "\n",
    "# Faire tourner avec 1,2,3 standards sur les 3 populations\n",
    "\n",
    "\n",
    "\n",
    "# Exclure AF004086-A"
   ],
   "metadata": {
    "collapsed": false
   }
  },
  {
   "cell_type": "code",
   "execution_count": null,
   "outputs": [],
   "source": [
    "df = modul[modul['Nb_MS'] == 1]\n",
    "# df = df[df['Chauff'].str.lower().str.strip() == 'bva 3 points']\n",
    "# Apply strip on the column Regul\n",
    "df.loc[:, 'Regul'] = df['Regul'].str.strip()\n",
    "distinct_cases = df.groupby(['MS1', 'ME1', 'Regul'], as_index=False)['Num_AF'].count()\n",
    "\n",
    "fig, ax = plot_concentric_bubbles(distinct_cases, 'MS1', 'ME1', 'Num_AF', 'Regul')\n",
    "tot = sum(distinct_cases['Num_AF'])\n",
    "fig.suptitle(f'Distribution des puissances moteurs pour les étuves modulaires (2 mot souffl.) (TOT: {tot})')\n",
    "plt.show()"
   ],
   "metadata": {
    "collapsed": false
   }
  },
  {
   "cell_type": "code",
   "execution_count": null,
   "outputs": [],
   "source": [
    "from spec_equipement import build_tree, convert_tree_to_json_list_info\n",
    "import json\n",
    "\n",
    "project_code = 'AF003650-A'\n",
    "df, tree =build_tree(project_code)\n",
    "ADV = df[df['code_article'].str.contains('ADV')]['code_article'].values[0]\n",
    "ADV\n",
    "\n",
    "json_tree = convert_tree_to_json_list_info(tree)\n",
    "# Dumps as file\n",
    "with open(f'./temp/{project_code}_aslistinfo.json', 'w') as f:\n",
    "    f.write(json.dumps(json_tree, indent=4))"
   ],
   "metadata": {
    "collapsed": false
   }
  }
 ],
 "metadata": {
  "kernelspec": {
   "display_name": "Python 3",
   "language": "python",
   "name": "python3"
  },
  "language_info": {
   "codemirror_mode": {
    "name": "ipython",
    "version": 2
   },
   "file_extension": ".py",
   "mimetype": "text/x-python",
   "name": "python",
   "nbconvert_exporter": "python",
   "pygments_lexer": "ipython2",
   "version": "2.7.6"
  }
 },
 "nbformat": 4,
 "nbformat_minor": 0
}
